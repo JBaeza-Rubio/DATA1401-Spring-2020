{
 "cells": [
  {
   "cell_type": "markdown",
   "metadata": {},
   "source": [
    "# Lab 3- Tic Tac Toe\n",
    "\n",
    "[![Open In Colab](https://colab.research.google.com/assets/colab-badge.svg)](https://colab.research.google.com/github//afarbin/DATA1401-Spring-2020/blob/master/Labs/Lab-3/Lab-3.ipynb)\n",
    "\n",
    "In this lab your will build a n x n Tic Tac Toe game. As you do the exercises, make sure your solutions work for any size Tic Tac Toe game. "
   ]
  },
  {
   "cell_type": "markdown",
   "metadata": {},
   "source": [
    "*Exercise 1:* Write a function that creates an n by n matrix (of list of lists) which will represent the state of a Tie Tac Toe game. Let 0, 1, and 2 represent empty, \"X\", or \"O\".\n"
   ]
  },
  {
   "cell_type": "code",
   "execution_count": 1,
   "metadata": {},
   "outputs": [],
   "source": [
    "# # Write you solution here\n",
    "# # Index assignment for the matrix representation of the game board ##remembers the board (39 mins )\n",
    "# player_1 = \"1\"\n",
    "# player_2 = \"2\"\n",
    "# empty = 0\n",
    "\n",
    "\n",
    "# # Game board size\n",
    "# size = 3\n",
    "\n",
    "# matrix=list() ##how to represent the board, represent it as a list of lists\n",
    "# for i in range(size):\n",
    "#     row=list()\n",
    "#     for j in range(size):\n",
    "#         row.append(empty)\n",
    "        \n",
    "#     matrix.append(row)\n",
    "    \n",
    "# # Test your solution here\n",
    "# for i in range(size):\n",
    "#     for j in range(size):\n",
    "#         print(board[i][j],end=' ')\n",
    "#     print('')\n",
    "#####THIS ISNT A FUNCTION, USE FOR EXCERCISE 3"
   ]
  },
  {
   "cell_type": "code",
   "execution_count": 2,
   "metadata": {},
   "outputs": [],
   "source": [
    "\n",
    "# Write you solution here\n",
    "empty=0\n",
    "player_1=1\n",
    "player_2=2\n",
    "players={0: \" \",1: \"X\",2: \"O\"}\n",
    "\n",
    "\n",
    "def make_game_board(n=3):\n",
    "    return [[empty] * n for i in range(n)]"
   ]
  },
  {
   "cell_type": "code",
   "execution_count": 3,
   "metadata": {},
   "outputs": [
    {
     "name": "stdout",
     "output_type": "stream",
     "text": [
      "[[0, 0, 0], [0, 0, 0], [0, 0, 0]]\n"
     ]
    }
   ],
   "source": [
    "# Test your solution here\n",
    "print(make_game_board())"
   ]
  },
  {
   "cell_type": "markdown",
   "metadata": {},
   "source": [
    "*Exercise 2:* Write a function that takes a `n` by `n` matrix representing a tic-tac-toe game, and returns -1, 0, 1, or 2 indicating the game is incomplete, the game is a draw, player 1 has won, or player 2 has one, respectively. Here are some example inputs you can use to test your code:"
   ]
  },
  {
   "cell_type": "code",
   "execution_count": 29,
   "metadata": {},
   "outputs": [],
   "source": [
    "winner_is_2 = [[2, 2, 0],\n",
    "\t[2, 1, 0],\n",
    "\t[2, 1, 1]]\n",
    "\n",
    "winner_is_1 = [[1, 2, 0],\n",
    "\t[2, 1, 0],\n",
    "\t[2, 1, 1]]\n",
    "\n",
    "winner_is_also_1 = [[0, 1, 0],\n",
    "\t[2, 1, 0],\n",
    "\t[2, 1, 1]]\n",
    "\n",
    "no_winner = [[1, 2, 0],\n",
    "\t[2, 1, 0],\n",
    "\t[2, 1, 2]]\n",
    "\n",
    "also_no_winner = [[1, 2, 0],\n",
    "\t[2, 1, 0],\n",
    "\t[2, 1, 0]]\n"
   ]
  },
  {
   "cell_type": "code",
   "execution_count": null,
   "metadata": {},
   "outputs": [],
   "source": [
    "# Write you solution here ###IGNORE ALL OF THIS\n",
    "\n",
    "\n",
    "##below is hard code...wont work, ignore this. \n",
    "# if winner_is_2 == [[2, 2, 0],\n",
    "#     [2, 1, 0],\n",
    "#     [2, 1, 1]] :\n",
    "#         print (\"Player 2 wins\")\n",
    "# elif winner_is_1 == [[1, 2, 0],\n",
    "#     [2, 1, 0],\n",
    "#     [2, 1, 1]] :\n",
    "#     print (\"Player 1 wins\")  \n",
    "# elif winner_is_also_1 == [[0, 1, 0],\n",
    "#     [2, 1, 0],\n",
    "#     [2, 1, 1]] :\n",
    "#     print (\"Player 1 wins\")\n",
    "# elif no_winner == [[1, 2, 0],\n",
    "#     [2, 1, 0],\n",
    "#     [2, 1, 2]] :\n",
    "#     print (\"Tie\")\n",
    "# elif also_no_winner == [[1, 2, 0],\n",
    "#     [2, 1, 0],\n",
    "#     [2, 1, 0]] :\n",
    "#         print (\"Tie\")'\n",
    "\n",
    "\n",
    "# def func(matrix): #will loop over the # of rows, then the # of entries per row, then print that entry\n",
    "#     for i in range(len(matrix)):\n",
    "#         for j in range(len(matrix[i])):\n",
    "#             print(matrix[i][j]) #first bracket is the list #, the second bracket has that element # in that list\n",
    "##this was just to see if my code read the matrix...it did\n"
   ]
  },
  {
   "cell_type": "code",
   "execution_count": null,
   "metadata": {},
   "outputs": [],
   "source": [
    "def check_for_winners(matrix):\n",
    "    \n",
    "    board_wins=[row for row in matrix]\n",
    "    board_wins+=[list(row) for row in zip(*matrix)]\n",
    "    board_wins+=[[matrix[i][i] for i in range(len(matrix))]] #first bracket is the list #, the second bracket has that element # in that list\n",
    "    if [1]*len(matrix) in board_wins: #cheks to see if player 1 wins given the statements above\n",
    "        return 1\n",
    "    \n",
    "    elif [2]*len(matrix) in board_wins: #checks to see if player 2 wins given the statements above\n",
    "        return 2\n",
    "    \n",
    "    elif True in [matrix[i][j] == 0 for i in range(len(matrix)) for j in range(len(matrix))]: #if there is a 0, game is incomp\n",
    "        return -1\n",
    "    \n",
    "    else:\n",
    "        return 0 ##none of these work? must be a tie bro"
   ]
  },
  {
   "cell_type": "code",
   "execution_count": null,
   "metadata": {},
   "outputs": [],
   "source": [
    "# Test your solution here\n",
    "# matrix_1 = [[0, 1, 2], ##this will be an incomplete board bc there are 0s in the board ((which means a player has not put anything there))\n",
    "#     [0, 0, 0],\n",
    "#     [1, 0, 2]]\n",
    "\n",
    "\n",
    "print(check_for_winners(winner_is_1)) #1\n",
    "print(check_for_winners(winner_is_2)) #2\n",
    "print(check_for_winners(winner_is_also_1)) #1\n",
    "print(check_for_winners(no_winner)) #-1\n",
    "print(check_for_winners(also_no_winner)) #-1\n",
    "\n",
    "\n",
    "# -1 indicating the game is incomplete\n",
    "# 0 the game is a draw\n",
    "#  1, or 2 player 1 has won, or player 2 has won\n",
    "\n",
    "\n"
   ]
  },
  {
   "cell_type": "markdown",
   "metadata": {},
   "source": [
    "*Exercise 3:* Write a function that takes 2 integers `n` and `m` as input and draws a `n` by `m` game board. For example the following is a 3x3 board:\n",
    "```\n",
    "   --- --- --- \n",
    "  |   |   |   | \n",
    "   --- --- ---  \n",
    "  |   |   |   | \n",
    "   --- --- ---  \n",
    "  |   |   |   | \n",
    "   --- --- --- \n",
    "   ```"
   ]
  },
  {
   "cell_type": "code",
   "execution_count": null,
   "metadata": {},
   "outputs": [],
   "source": [
    "# Write you solution here\n",
    "def draw_game_board(n, m):\n",
    "    \n",
    "    for row in range(n):\n",
    "        line_1=\"\"\n",
    "        line_2=\"\"\n",
    "        for column in range(m):\n",
    "            line_1+= \" ---\"\n",
    "            line_2+=\" |  \"\n",
    "        line_2+=\"|\"\n",
    "        print(line_1)\n",
    "        print(line_2)\n",
    "    bottom=\"\"\n",
    "    for column in range(m):\n",
    "        bottom+=\" ---\"\n",
    "    print(bottom)"
   ]
  },
  {
   "cell_type": "code",
   "execution_count": null,
   "metadata": {},
   "outputs": [],
   "source": [
    "\n",
    "# Test your solution here\n",
    "draw_game_board(5, 5)"
   ]
  },
  {
   "cell_type": "markdown",
   "metadata": {},
   "source": [
    "*Exercise 4:* Modify exercise 3, so that it takes a matrix of the form from exercise 2 and draws a tic-tac-tie board with \"X\"s and \"O\"s.  "
   ]
  },
  {
   "cell_type": "code",
   "execution_count": 10,
   "metadata": {},
   "outputs": [],
   "source": [
    "# Write you solution here\n",
    "\n",
    "players={0: \" \", 1: \"X\", 2: \"O\"}\n",
    "\n",
    "def draw_game_board(matrix): ##same code as above, change n,m to matrix and define the players so u can change the # to X and Os\n",
    "    for row in matrix:\n",
    "        line_1=\"\"\n",
    "        line_2=\"\"\n",
    "        for column in row:\n",
    "            line_1+=\" ---\"\n",
    "            line_2+=\"| \"+players[column]+\" \" ##spaces matter ! couldnt get them to line up before, now the board is perf\n",
    "        line_2+=\"|\"\n",
    "        print(line_1)\n",
    "        print(line_2)\n",
    "    bottom=\"\"\n",
    "    for column in matrix:\n",
    "            bottom+=\" ---\"\n",
    "    print(bottom)"
   ]
  },
  {
   "cell_type": "code",
   "execution_count": 11,
   "metadata": {},
   "outputs": [
    {
     "name": "stdout",
     "output_type": "stream",
     "text": [
      " --- --- ---\n",
      "| X | O |   |\n",
      " --- --- ---\n",
      "| O | X |   |\n",
      " --- --- ---\n",
      "| O | X | X |\n",
      " --- --- ---\n"
     ]
    }
   ],
   "source": [
    "# Test your solution here\n",
    "draw_game_board(winner_is_1)"
   ]
  },
  {
   "cell_type": "markdown",
   "metadata": {},
   "source": [
    "*Exercise 5:* Write a function that takes a game board, player number, and `(x,y)` coordinates and places \"X\" or \"O\" in the correct location of the game board. Make sure that you only allow filling previously empty locations. Return `True` or `False` to indicate successful placement of \"X\" or \"O\"."
   ]
  },
  {
   "cell_type": "code",
   "execution_count": 12,
   "metadata": {},
   "outputs": [],
   "source": [
    "# Write you solution here\n",
    "\n",
    "def move(matrix, players, coordinates):\n",
    "    \n",
    "    x,y=coordinates\n",
    "    if matrix[x][y]==0: ##if there is a 0, means empty spcae\n",
    "        matrix[x][y]=players\n",
    "        return True\n",
    "    else:\n",
    "        return False"
   ]
  },
  {
   "cell_type": "code",
   "execution_count": 13,
   "metadata": {},
   "outputs": [
    {
     "name": "stdout",
     "output_type": "stream",
     "text": [
      " --- --- ---\n",
      "|   | O |   |\n",
      " --- --- ---\n",
      "| X |   |   |\n",
      " --- --- ---\n",
      "|   |   |   |\n",
      " --- --- ---\n"
     ]
    }
   ],
   "source": [
    "# Test your solution here\n",
    "\n",
    "test_game_matrix=make_game_board()\n",
    "\n",
    "move(test_game_matrix, 1, (1,0)) ##(1,1) = x and y cordinates\n",
    "move(test_game_matrix, 2, (0,1))\n",
    "\n",
    "draw_game_board(test_game_matrix)\n"
   ]
  },
  {
   "cell_type": "markdown",
   "metadata": {},
   "source": [
    "*Exercise 6:* Modify Exercise 4 to show column and row labels so that players can specify location using \"A2\" or \"C1\"."
   ]
  },
  {
   "cell_type": "code",
   "execution_count": 14,
   "metadata": {},
   "outputs": [],
   "source": [
    "# Write you solution here\n",
    "\n",
    "letters=\"ABCDEFGHIJKLMNOPQRSTUVWXYZ\"\n",
    "\n",
    "def draw_game_board(matrix):\n",
    "    top=\"   \"\n",
    "    for column in range(1,len(matrix)+1):\n",
    "        top+=\" \"+str(column)+\"  \"\n",
    "    print(top)\n",
    "    z=0\n",
    "    for row in matrix:\n",
    "        line_1=\"  \"\n",
    "        line_2=letters[z]+\" \"\n",
    "        z+=1\n",
    "        for column in row:\n",
    "            line_1+=\" ---\"\n",
    "            line_2+=\"| \"+players[column]+\" \"\n",
    "        line_2+=\"|\"\n",
    "        print(line_1)\n",
    "        print(line_2)\n",
    "    print(\"  \"+\" ---\"*len(matrix))\n",
    "            "
   ]
  },
  {
   "cell_type": "code",
   "execution_count": 15,
   "metadata": {},
   "outputs": [
    {
     "name": "stdout",
     "output_type": "stream",
     "text": [
      "    1   2   3  \n",
      "   --- --- ---\n",
      "A | X | O |   |\n",
      "   --- --- ---\n",
      "B | O | X |   |\n",
      "   --- --- ---\n",
      "C | O | X | X |\n",
      "   --- --- ---\n"
     ]
    }
   ],
   "source": [
    "# Test your solution here\n",
    "draw_game_board(winner_is_1)"
   ]
  },
  {
   "cell_type": "markdown",
   "metadata": {},
   "source": [
    "*Exercise 7:* Write a function that takes a board, player number, and location specified as in exercise 6 and then calls exercise 5 to correctly modify the board.  "
   ]
  },
  {
   "cell_type": "code",
   "execution_count": 22,
   "metadata": {},
   "outputs": [],
   "source": [
    "# Write you solution here\n",
    "def move2(board, player, location):\n",
    "    row=letters.find(location[0])\n",
    "    column=int(location[1:]) - 1\n",
    "    if board[row][column]==0:\n",
    "        move(board, player, (row,column))\n",
    "        return True\n",
    "    else:\n",
    "        print(\"Bad move, \"+players[player]+\" try again \"+location)\n",
    "        return False"
   ]
  },
  {
   "cell_type": "code",
   "execution_count": 24,
   "metadata": {},
   "outputs": [
    {
     "name": "stdout",
     "output_type": "stream",
     "text": [
      "Bad move, X try again A3\n",
      "    1   2   3  \n",
      "   --- --- ---\n",
      "A | X | O | X |\n",
      "   --- --- ---\n",
      "B | O | X |   |\n",
      "   --- --- ---\n",
      "C | O | X | O |\n",
      "   --- --- ---\n",
      "    1   2   3  \n",
      "   --- --- ---\n",
      "A | X | O | X |\n",
      "   --- --- ---\n",
      "B | O | X | X |\n",
      "   --- --- ---\n",
      "C | O | X | O |\n",
      "   --- --- ---\n",
      "Bad move, X try again C3\n",
      "    1   2   3  \n",
      "   --- --- ---\n",
      "A | X | O |   |\n",
      "   --- --- ---\n",
      "B | O | X |   |\n",
      "   --- --- ---\n",
      "C | O | X | X |\n",
      "   --- --- ---\n"
     ]
    }
   ],
   "source": [
    "# Test your solution here\n",
    "move2(no_winner, 1, \"A3\")\n",
    "draw_game_board(no_winner)\n",
    "move2(no_winner, 1, \"B3\")\n",
    "draw_game_board(no_winner)\n",
    "move2(also_no_winner, 1, \"C3\")\n",
    "draw_game_board(also_no_winner)"
   ]
  },
  {
   "cell_type": "markdown",
   "metadata": {},
   "source": [
    "*Exercise 8:* Write a function is called with a board and player number, takes input from the player using python's `input`, and modifies the board using your function from exercise 7. Note that you should keep asking for input until you have gotten a valid input that results in a valid move."
   ]
  },
  {
   "cell_type": "code",
   "execution_count": 27,
   "metadata": {},
   "outputs": [],
   "source": [
    "# Write you solution here\n",
    "def player_move(board, player):\n",
    "    location=\"A1\"\n",
    "    while True:\n",
    "        draw_game_board(board)\n",
    "        location=input(\"Place \"+players[player]+\" at: \").upper()\n",
    "        if location[0] in letters and letters.find(location[0])<len(board) and location[1:].isnumeric() and 0<int(location[1:]) <= len(board) <= 26:\n",
    "            break\n",
    "        else:\n",
    "            print(\"Bad move, try again.\")\n",
    "    if move(board, player, location):\n",
    "        return True\n",
    "    else:\n",
    "        return player_move(board, player)"
   ]
  },
  {
   "cell_type": "code",
   "execution_count": 30,
   "metadata": {},
   "outputs": [
    {
     "name": "stdout",
     "output_type": "stream",
     "text": [
      "    1   2   3  \n",
      "   --- --- ---\n",
      "A | X | O |   |\n",
      "   --- --- ---\n",
      "B | O | X |   |\n",
      "   --- --- ---\n",
      "C | O | X | O |\n",
      "   --- --- ---\n",
      "Place X at: B3\n"
     ]
    },
    {
     "ename": "TypeError",
     "evalue": "list indices must be integers or slices, not str",
     "output_type": "error",
     "traceback": [
      "\u001b[0;31m---------------------------------------------------------------------------\u001b[0m",
      "\u001b[0;31mTypeError\u001b[0m                                 Traceback (most recent call last)",
      "\u001b[0;32m<ipython-input-30-641b793925d0>\u001b[0m in \u001b[0;36m<module>\u001b[0;34m\u001b[0m\n\u001b[1;32m      1\u001b[0m \u001b[0;31m# Test your solution here\u001b[0m\u001b[0;34m\u001b[0m\u001b[0;34m\u001b[0m\u001b[0;34m\u001b[0m\u001b[0m\n\u001b[0;32m----> 2\u001b[0;31m \u001b[0mplayer_move\u001b[0m\u001b[0;34m(\u001b[0m\u001b[0mno_winner\u001b[0m\u001b[0;34m,\u001b[0m \u001b[0;36m1\u001b[0m\u001b[0;34m)\u001b[0m\u001b[0;34m\u001b[0m\u001b[0;34m\u001b[0m\u001b[0m\n\u001b[0m\u001b[1;32m      3\u001b[0m \u001b[0mdraw_game_board\u001b[0m\u001b[0;34m(\u001b[0m\u001b[0mno_winner\u001b[0m\u001b[0;34m)\u001b[0m\u001b[0;34m\u001b[0m\u001b[0;34m\u001b[0m\u001b[0m\n",
      "\u001b[0;32m<ipython-input-27-a00770bc5754>\u001b[0m in \u001b[0;36mplayer_move\u001b[0;34m(board, player)\u001b[0m\n\u001b[1;32m      9\u001b[0m         \u001b[0;32melse\u001b[0m\u001b[0;34m:\u001b[0m\u001b[0;34m\u001b[0m\u001b[0;34m\u001b[0m\u001b[0m\n\u001b[1;32m     10\u001b[0m             \u001b[0mprint\u001b[0m\u001b[0;34m(\u001b[0m\u001b[0;34m\"Bad move, try again.\"\u001b[0m\u001b[0;34m)\u001b[0m\u001b[0;34m\u001b[0m\u001b[0;34m\u001b[0m\u001b[0m\n\u001b[0;32m---> 11\u001b[0;31m     \u001b[0;32mif\u001b[0m \u001b[0mmove\u001b[0m\u001b[0;34m(\u001b[0m\u001b[0mboard\u001b[0m\u001b[0;34m,\u001b[0m \u001b[0mplayer\u001b[0m\u001b[0;34m,\u001b[0m \u001b[0mlocation\u001b[0m\u001b[0;34m)\u001b[0m\u001b[0;34m:\u001b[0m\u001b[0;34m\u001b[0m\u001b[0;34m\u001b[0m\u001b[0m\n\u001b[0m\u001b[1;32m     12\u001b[0m         \u001b[0;32mreturn\u001b[0m \u001b[0;32mTrue\u001b[0m\u001b[0;34m\u001b[0m\u001b[0;34m\u001b[0m\u001b[0m\n\u001b[1;32m     13\u001b[0m     \u001b[0;32melse\u001b[0m\u001b[0;34m:\u001b[0m\u001b[0;34m\u001b[0m\u001b[0;34m\u001b[0m\u001b[0m\n",
      "\u001b[0;32m<ipython-input-12-a37f15548c20>\u001b[0m in \u001b[0;36mmove\u001b[0;34m(matrix, players, coordinates)\u001b[0m\n\u001b[1;32m      4\u001b[0m \u001b[0;34m\u001b[0m\u001b[0m\n\u001b[1;32m      5\u001b[0m     \u001b[0mx\u001b[0m\u001b[0;34m,\u001b[0m\u001b[0my\u001b[0m\u001b[0;34m=\u001b[0m\u001b[0mcoordinates\u001b[0m\u001b[0;34m\u001b[0m\u001b[0;34m\u001b[0m\u001b[0m\n\u001b[0;32m----> 6\u001b[0;31m     \u001b[0;32mif\u001b[0m \u001b[0mmatrix\u001b[0m\u001b[0;34m[\u001b[0m\u001b[0mx\u001b[0m\u001b[0;34m]\u001b[0m\u001b[0;34m[\u001b[0m\u001b[0my\u001b[0m\u001b[0;34m]\u001b[0m\u001b[0;34m==\u001b[0m\u001b[0;36m0\u001b[0m\u001b[0;34m:\u001b[0m \u001b[0;31m##if there is a 0, means empty spcae\u001b[0m\u001b[0;34m\u001b[0m\u001b[0;34m\u001b[0m\u001b[0m\n\u001b[0m\u001b[1;32m      7\u001b[0m         \u001b[0mmatrix\u001b[0m\u001b[0;34m[\u001b[0m\u001b[0mx\u001b[0m\u001b[0;34m]\u001b[0m\u001b[0;34m[\u001b[0m\u001b[0my\u001b[0m\u001b[0;34m]\u001b[0m\u001b[0;34m=\u001b[0m\u001b[0mplayers\u001b[0m\u001b[0;34m\u001b[0m\u001b[0;34m\u001b[0m\u001b[0m\n\u001b[1;32m      8\u001b[0m         \u001b[0;32mreturn\u001b[0m \u001b[0;32mTrue\u001b[0m\u001b[0;34m\u001b[0m\u001b[0;34m\u001b[0m\u001b[0m\n",
      "\u001b[0;31mTypeError\u001b[0m: list indices must be integers or slices, not str"
     ]
    }
   ],
   "source": [
    "# Test your solution here\n",
    "player_move(no_winner, 1)\n",
    "draw_game_board(no_winner)\n"
   ]
  },
  {
   "cell_type": "markdown",
   "metadata": {},
   "source": [
    "*Exercise 9:* Use all of the previous exercises to implement a full tic-tac-toe game, where an appropriate board is drawn, 2 players are repeatedly asked for a location coordinates of where they wish to place a mark, and the game status is checked until a player wins or a draw occurs."
   ]
  },
  {
   "cell_type": "code",
   "execution_count": null,
   "metadata": {},
   "outputs": [],
   "source": [
    "# Write you solution here"
   ]
  },
  {
   "cell_type": "code",
   "execution_count": null,
   "metadata": {},
   "outputs": [],
   "source": [
    "# Test your solution here"
   ]
  },
  {
   "cell_type": "markdown",
   "metadata": {},
   "source": [
    "*Exercise 10:* Test that your game works for 5x5 Tic Tac Toe.  "
   ]
  },
  {
   "cell_type": "code",
   "execution_count": null,
   "metadata": {},
   "outputs": [],
   "source": [
    "# Test your solution here"
   ]
  },
  {
   "cell_type": "markdown",
   "metadata": {},
   "source": [
    "*Exercise 11: (Extra Credit)* Develop a version of the game where one player is the computer. Note that you don't need to do an extensive seach for the best move. You can have the computer simply protect against loosing and otherwise try to win with straight or diagonal patterns."
   ]
  },
  {
   "cell_type": "code",
   "execution_count": null,
   "metadata": {},
   "outputs": [],
   "source": [
    "# Write you solution here"
   ]
  },
  {
   "cell_type": "code",
   "execution_count": null,
   "metadata": {},
   "outputs": [],
   "source": [
    "# Test your solution here"
   ]
  }
 ],
 "metadata": {
  "kernelspec": {
   "display_name": "Python 3",
   "language": "python",
   "name": "python3"
  }
 },
 "nbformat": 4,
 "nbformat_minor": 2
}
